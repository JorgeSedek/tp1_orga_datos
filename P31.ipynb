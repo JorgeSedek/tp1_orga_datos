{
  "nbformat": 4,
  "nbformat_minor": 0,
  "metadata": {
    "colab": {
      "provenance": [],
      "authorship_tag": "ABX9TyOO8QGznj/3sUXx0wQPJQe5",
      "include_colab_link": true
    },
    "kernelspec": {
      "name": "python3",
      "display_name": "Python 3"
    },
    "language_info": {
      "name": "python"
    }
  },
  "cells": [
    {
      "cell_type": "markdown",
      "metadata": {
        "id": "view-in-github",
        "colab_type": "text"
      },
      "source": [
        "<a href=\"https://colab.research.google.com/github/JorgeSedek/tp1_orga_datos/blob/main/P31.ipynb\" target=\"_parent\"><img src=\"https://colab.research.google.com/assets/colab-badge.svg\" alt=\"Open In Colab\"/></a>"
      ]
    },
    {
      "cell_type": "code",
      "execution_count": null,
      "metadata": {
        "id": "PaZrHQdAnaVO"
      },
      "outputs": [],
      "source": [
        "import pandas as pd"
      ]
    },
    {
      "cell_type": "code",
      "source": [
        "import numpy as np"
      ],
      "metadata": {
        "id": "fvJ0NcV0nhf4"
      },
      "execution_count": null,
      "outputs": []
    },
    {
      "cell_type": "code",
      "source": [
        "from google.colab import drive\n",
        "drive.mount('/content/drive')"
      ],
      "metadata": {
        "colab": {
          "base_uri": "https://localhost:8080/"
        },
        "id": "HOjemJTSnhrX",
        "outputId": "e3ea5d73-ae80-4578-e8b2-3a5dba5d3014"
      },
      "execution_count": null,
      "outputs": [
        {
          "output_type": "stream",
          "name": "stdout",
          "text": [
            "Mounted at /content/drive\n"
          ]
        }
      ]
    },
    {
      "cell_type": "markdown",
      "source": [
        "P31) Para las películas con ROI (Return of Investment) entre -10 y 10 consiga una serie que tenga como índice cada país donde se produjeron películas y como valores el promedio del ROI. ¿Cuáles son los 5 países más rentables para producir una película"
      ],
      "metadata": {
        "id": "XQu7irYNnmi_"
      }
    },
    {
      "cell_type": "code",
      "source": [
        "df_peliculas = pd.read_csv('/content/drive/MyDrive/orgaDatos/Movie dataset/movies.csv')"
      ],
      "metadata": {
        "colab": {
          "base_uri": "https://localhost:8080/"
        },
        "id": "srIKvoEhnpJV",
        "outputId": "e3cc69ee-78ba-4748-800f-eb97aef3de16"
      },
      "execution_count": null,
      "outputs": [
        {
          "output_type": "stream",
          "name": "stderr",
          "text": [
            "/usr/local/lib/python3.7/dist-packages/IPython/core/interactiveshell.py:3326: DtypeWarning: Columns (10) have mixed types.Specify dtype option on import or set low_memory=False.\n",
            "  exec(code_obj, self.user_global_ns, self.user_ns)\n"
          ]
        }
      ]
    },
    {
      "cell_type": "code",
      "source": [
        "df_peliculas.info()"
      ],
      "metadata": {
        "colab": {
          "base_uri": "https://localhost:8080/"
        },
        "id": "t5rsPQDxnsFb",
        "outputId": "8b7cf281-652c-45e9-d5b2-1d5320b18034"
      },
      "execution_count": null,
      "outputs": [
        {
          "output_type": "stream",
          "name": "stdout",
          "text": [
            "<class 'pandas.core.frame.DataFrame'>\n",
            "RangeIndex: 45466 entries, 0 to 45465\n",
            "Data columns (total 24 columns):\n",
            " #   Column                 Non-Null Count  Dtype  \n",
            "---  ------                 --------------  -----  \n",
            " 0   adult                  45466 non-null  object \n",
            " 1   belongs_to_collection  4494 non-null   object \n",
            " 2   budget                 45466 non-null  object \n",
            " 3   genres                 43021 non-null  object \n",
            " 4   homepage               7782 non-null   object \n",
            " 5   id                     45466 non-null  object \n",
            " 6   imdb_id                45449 non-null  object \n",
            " 7   original_language      45455 non-null  object \n",
            " 8   original_title         45466 non-null  object \n",
            " 9   overview               44512 non-null  object \n",
            " 10  popularity             45461 non-null  object \n",
            " 11  poster_path            45080 non-null  object \n",
            " 12  production_companies   33585 non-null  object \n",
            " 13  production_countries   45463 non-null  object \n",
            " 14  release_date           45379 non-null  object \n",
            " 15  revenue                45460 non-null  float64\n",
            " 16  runtime                45203 non-null  float64\n",
            " 17  spoken_languages       45460 non-null  object \n",
            " 18  status                 45379 non-null  object \n",
            " 19  tagline                20412 non-null  object \n",
            " 20  title                  45460 non-null  object \n",
            " 21  video                  45460 non-null  object \n",
            " 22  vote_average           45460 non-null  float64\n",
            " 23  vote_count             45460 non-null  float64\n",
            "dtypes: float64(4), object(20)\n",
            "memory usage: 8.3+ MB\n"
          ]
        }
      ]
    },
    {
      "cell_type": "code",
      "source": [
        " df_peliculas['budget'].unique()"
      ],
      "metadata": {
        "colab": {
          "base_uri": "https://localhost:8080/"
        },
        "id": "3UTknCunog_W",
        "outputId": "d0cbbf2f-50ce-4dc8-e5d8-3546f7722e1c"
      },
      "execution_count": null,
      "outputs": [
        {
          "output_type": "execute_result",
          "data": {
            "text/plain": [
              "array(['30000000', '65000000', '0', ..., '3417000', '25868826', '1254040'],\n",
              "      dtype=object)"
            ]
          },
          "metadata": {},
          "execution_count": 7
        }
      ]
    },
    {
      "cell_type": "code",
      "source": [
        "df_peliculas['budget'] = df_peliculas['budget'].fillna(0)\n",
        "peliculas_budget = df_peliculas[df_peliculas['budget'].astype('string').map(lambda x: x.isnumeric())]\n",
        "peliculas_budget.info()"
      ],
      "metadata": {
        "colab": {
          "base_uri": "https://localhost:8080/"
        },
        "id": "aumIeczNowgD",
        "outputId": "9aab7fc5-f579-4439-fd79-e987e44483c2"
      },
      "execution_count": null,
      "outputs": [
        {
          "output_type": "stream",
          "name": "stdout",
          "text": [
            "<class 'pandas.core.frame.DataFrame'>\n",
            "Int64Index: 45463 entries, 0 to 45465\n",
            "Data columns (total 24 columns):\n",
            " #   Column                 Non-Null Count  Dtype  \n",
            "---  ------                 --------------  -----  \n",
            " 0   adult                  45463 non-null  object \n",
            " 1   belongs_to_collection  4491 non-null   object \n",
            " 2   budget                 45463 non-null  object \n",
            " 3   genres                 43021 non-null  object \n",
            " 4   homepage               7779 non-null   object \n",
            " 5   id                     45463 non-null  object \n",
            " 6   imdb_id                45446 non-null  object \n",
            " 7   original_language      45452 non-null  object \n",
            " 8   original_title         45463 non-null  object \n",
            " 9   overview               44509 non-null  object \n",
            " 10  popularity             45460 non-null  object \n",
            " 11  poster_path            45077 non-null  object \n",
            " 12  production_companies   33585 non-null  object \n",
            " 13  production_countries   45460 non-null  object \n",
            " 14  release_date           45376 non-null  object \n",
            " 15  revenue                45460 non-null  float64\n",
            " 16  runtime                45203 non-null  float64\n",
            " 17  spoken_languages       45460 non-null  object \n",
            " 18  status                 45379 non-null  object \n",
            " 19  tagline                20412 non-null  object \n",
            " 20  title                  45460 non-null  object \n",
            " 21  video                  45460 non-null  object \n",
            " 22  vote_average           45460 non-null  float64\n",
            " 23  vote_count             45460 non-null  float64\n",
            "dtypes: float64(4), object(20)\n",
            "memory usage: 8.7+ MB\n"
          ]
        }
      ]
    },
    {
      "cell_type": "code",
      "source": [
        "peliculas_budget['budget'] = peliculas_budget['budget'].astype('float64')\n",
        "peliculas_validas = peliculas_budget[peliculas_budget['budget'] > 0]\n",
        "peliculas_validas.info()"
      ],
      "metadata": {
        "colab": {
          "base_uri": "https://localhost:8080/"
        },
        "id": "p2K23_cvo7f1",
        "outputId": "79bcfaf4-ab66-43e0-f692-cabd394bcc6d"
      },
      "execution_count": null,
      "outputs": [
        {
          "output_type": "stream",
          "name": "stdout",
          "text": [
            "<class 'pandas.core.frame.DataFrame'>\n",
            "Int64Index: 8890 entries, 0 to 45422\n",
            "Data columns (total 24 columns):\n",
            " #   Column                 Non-Null Count  Dtype  \n",
            "---  ------                 --------------  -----  \n",
            " 0   adult                  8890 non-null   object \n",
            " 1   belongs_to_collection  1585 non-null   object \n",
            " 2   budget                 8890 non-null   float64\n",
            " 3   genres                 8832 non-null   object \n",
            " 4   homepage               2755 non-null   object \n",
            " 5   id                     8890 non-null   object \n",
            " 6   imdb_id                8888 non-null   object \n",
            " 7   original_language      8890 non-null   object \n",
            " 8   original_title         8890 non-null   object \n",
            " 9   overview               8843 non-null   object \n",
            " 10  popularity             8890 non-null   object \n",
            " 11  poster_path            8883 non-null   object \n",
            " 12  production_companies   8158 non-null   object \n",
            " 13  production_countries   8890 non-null   object \n",
            " 14  release_date           8886 non-null   object \n",
            " 15  revenue                8890 non-null   float64\n",
            " 16  runtime                8880 non-null   float64\n",
            " 17  spoken_languages       8890 non-null   object \n",
            " 18  status                 8887 non-null   object \n",
            " 19  tagline                6684 non-null   object \n",
            " 20  title                  8890 non-null   object \n",
            " 21  video                  8890 non-null   object \n",
            " 22  vote_average           8890 non-null   float64\n",
            " 23  vote_count             8890 non-null   float64\n",
            "dtypes: float64(5), object(19)\n",
            "memory usage: 1.7+ MB\n"
          ]
        },
        {
          "output_type": "stream",
          "name": "stderr",
          "text": [
            "/usr/local/lib/python3.7/dist-packages/ipykernel_launcher.py:1: SettingWithCopyWarning: \n",
            "A value is trying to be set on a copy of a slice from a DataFrame.\n",
            "Try using .loc[row_indexer,col_indexer] = value instead\n",
            "\n",
            "See the caveats in the documentation: https://pandas.pydata.org/pandas-docs/stable/user_guide/indexing.html#returning-a-view-versus-a-copy\n",
            "  \"\"\"Entry point for launching an IPython kernel.\n"
          ]
        }
      ]
    },
    {
      "cell_type": "code",
      "source": [
        "peliculas_validas[\"ROI\"] = ((peliculas_validas[\"revenue\"] - peliculas_validas[\"budget\"]) / peliculas_validas[\"budget\"]).dropna()\n"
      ],
      "metadata": {
        "colab": {
          "base_uri": "https://localhost:8080/"
        },
        "id": "NocObC_Fsjuu",
        "outputId": "693e001a-04bf-4b69-c2a9-16d7030440aa"
      },
      "execution_count": null,
      "outputs": [
        {
          "output_type": "stream",
          "name": "stderr",
          "text": [
            "/usr/local/lib/python3.7/dist-packages/ipykernel_launcher.py:1: SettingWithCopyWarning: \n",
            "A value is trying to be set on a copy of a slice from a DataFrame.\n",
            "Try using .loc[row_indexer,col_indexer] = value instead\n",
            "\n",
            "See the caveats in the documentation: https://pandas.pydata.org/pandas-docs/stable/user_guide/indexing.html#returning-a-view-versus-a-copy\n",
            "  \"\"\"Entry point for launching an IPython kernel.\n"
          ]
        }
      ]
    },
    {
      "cell_type": "code",
      "source": [
        "peliculas_validas[\"production_countries\"] = peliculas_validas[\"production_countries\"].astype('string').fillna('')"
      ],
      "metadata": {
        "colab": {
          "base_uri": "https://localhost:8080/"
        },
        "id": "cCZ3K-QutIec",
        "outputId": "436c6e9c-a050-4ee3-edb5-fbff06eaa69e"
      },
      "execution_count": null,
      "outputs": [
        {
          "output_type": "stream",
          "name": "stderr",
          "text": [
            "/usr/local/lib/python3.7/dist-packages/ipykernel_launcher.py:1: SettingWithCopyWarning: \n",
            "A value is trying to be set on a copy of a slice from a DataFrame.\n",
            "Try using .loc[row_indexer,col_indexer] = value instead\n",
            "\n",
            "See the caveats in the documentation: https://pandas.pydata.org/pandas-docs/stable/user_guide/indexing.html#returning-a-view-versus-a-copy\n",
            "  \"\"\"Entry point for launching an IPython kernel.\n"
          ]
        }
      ]
    },
    {
      "cell_type": "code",
      "source": [
        "def separar_paises(texto):\n",
        "  texto = texto.split(\",\")\n",
        "  paises = []\n",
        "\n",
        "  for elemento in texto:\n",
        "    if (\"name\" in elemento):\n",
        "      elemento = elemento.split(\":\")\n",
        "      elemento = elemento[1].strip(\"[]'{}'\").strip()\n",
        "     \n",
        "      paises.append(elemento[1:])\n",
        "  \n",
        "      \n",
        "  return paises\n",
        "\n",
        "\n",
        "peliculas_validas[\"paises\"] = peliculas_validas[\"production_countries\"].map(separar_paises)\n",
        "df_peliculas_paises = peliculas_validas.explode(\"paises\")\n",
        "df_peliculas_paises = df_peliculas_paises.dropna()\n",
        "\n",
        "budget = df_peliculas_paises[\"budget\"].loc[df_peliculas_paises[\"budget\"] > 0]\n",
        "revenue = df_peliculas_paises[\"revenue\"].loc[df_peliculas_paises[\"budget\"] > 0]\n",
        "paises =  df_peliculas_paises[\"paises\"].loc[df_peliculas_paises[\"budget\"] > 0]\n",
        "\n",
        "ROI = (revenue - budget) / budget\n",
        "frame = { 'paises': paises, 'ROI': ROI }\n",
        "df_ROI = pd.DataFrame(frame)\n",
        "\n",
        "ROI_filtr = df_ROI[\"ROI\"].loc[(df_ROI[\"ROI\"] > -10) & (df_ROI[\"ROI\"] < 10)]\n",
        "paises_filtr = df_ROI[\"paises\"].loc[(df_ROI[\"ROI\"] > -10) & (df_ROI[\"ROI\"] < 10)]\n",
        "frame_roi = { 'paises': paises_filtr, 'ROI': ROI_filtr }\n",
        "df_ROI_filtr = pd.DataFrame(frame_roi)\n",
        "df_paises_roi = df_ROI_filtr.groupby(['paises']).agg({'ROI':'mean'})\n",
        "\n",
        "df_paises_roi = df_paises_roi.reset_index()\n",
        "rentables = list(df_paises_roi ['ROI'].nlargest(5))\n",
        "rentables\n",
        "paises_rentables = df_paises_roi[df_paises_roi['ROI'].isin(rentables)]\n",
        "paises_rentables.sort_values(by='ROI').reset_index()"
      ],
      "metadata": {
        "colab": {
          "base_uri": "https://localhost:8080/",
          "height": 330
        },
        "id": "EQ82-4NVtR5c",
        "outputId": "426a84af-97f1-4594-c268-6c58b8962624"
      },
      "execution_count": null,
      "outputs": [
        {
          "output_type": "stream",
          "name": "stderr",
          "text": [
            "/usr/local/lib/python3.7/dist-packages/ipykernel_launcher.py:16: SettingWithCopyWarning: \n",
            "A value is trying to be set on a copy of a slice from a DataFrame.\n",
            "Try using .loc[row_indexer,col_indexer] = value instead\n",
            "\n",
            "See the caveats in the documentation: https://pandas.pydata.org/pandas-docs/stable/user_guide/indexing.html#returning-a-view-versus-a-copy\n",
            "  app.launch_new_instance()\n"
          ]
        },
        {
          "output_type": "execute_result",
          "data": {
            "text/plain": [
              "   index       paises       ROI\n",
              "0     13      Iceland  4.080932\n",
              "1     21  Netherlands  4.857837\n",
              "2      7      Denmark  4.962985\n",
              "3     27       Sweden  5.603673\n",
              "4     24       Russia  8.253028"
            ],
            "text/html": [
              "\n",
              "  <div id=\"df-7a16d434-524b-4113-a849-cb449cda993b\">\n",
              "    <div class=\"colab-df-container\">\n",
              "      <div>\n",
              "<style scoped>\n",
              "    .dataframe tbody tr th:only-of-type {\n",
              "        vertical-align: middle;\n",
              "    }\n",
              "\n",
              "    .dataframe tbody tr th {\n",
              "        vertical-align: top;\n",
              "    }\n",
              "\n",
              "    .dataframe thead th {\n",
              "        text-align: right;\n",
              "    }\n",
              "</style>\n",
              "<table border=\"1\" class=\"dataframe\">\n",
              "  <thead>\n",
              "    <tr style=\"text-align: right;\">\n",
              "      <th></th>\n",
              "      <th>index</th>\n",
              "      <th>paises</th>\n",
              "      <th>ROI</th>\n",
              "    </tr>\n",
              "  </thead>\n",
              "  <tbody>\n",
              "    <tr>\n",
              "      <th>0</th>\n",
              "      <td>13</td>\n",
              "      <td>Iceland</td>\n",
              "      <td>4.080932</td>\n",
              "    </tr>\n",
              "    <tr>\n",
              "      <th>1</th>\n",
              "      <td>21</td>\n",
              "      <td>Netherlands</td>\n",
              "      <td>4.857837</td>\n",
              "    </tr>\n",
              "    <tr>\n",
              "      <th>2</th>\n",
              "      <td>7</td>\n",
              "      <td>Denmark</td>\n",
              "      <td>4.962985</td>\n",
              "    </tr>\n",
              "    <tr>\n",
              "      <th>3</th>\n",
              "      <td>27</td>\n",
              "      <td>Sweden</td>\n",
              "      <td>5.603673</td>\n",
              "    </tr>\n",
              "    <tr>\n",
              "      <th>4</th>\n",
              "      <td>24</td>\n",
              "      <td>Russia</td>\n",
              "      <td>8.253028</td>\n",
              "    </tr>\n",
              "  </tbody>\n",
              "</table>\n",
              "</div>\n",
              "      <button class=\"colab-df-convert\" onclick=\"convertToInteractive('df-7a16d434-524b-4113-a849-cb449cda993b')\"\n",
              "              title=\"Convert this dataframe to an interactive table.\"\n",
              "              style=\"display:none;\">\n",
              "        \n",
              "  <svg xmlns=\"http://www.w3.org/2000/svg\" height=\"24px\"viewBox=\"0 0 24 24\"\n",
              "       width=\"24px\">\n",
              "    <path d=\"M0 0h24v24H0V0z\" fill=\"none\"/>\n",
              "    <path d=\"M18.56 5.44l.94 2.06.94-2.06 2.06-.94-2.06-.94-.94-2.06-.94 2.06-2.06.94zm-11 1L8.5 8.5l.94-2.06 2.06-.94-2.06-.94L8.5 2.5l-.94 2.06-2.06.94zm10 10l.94 2.06.94-2.06 2.06-.94-2.06-.94-.94-2.06-.94 2.06-2.06.94z\"/><path d=\"M17.41 7.96l-1.37-1.37c-.4-.4-.92-.59-1.43-.59-.52 0-1.04.2-1.43.59L10.3 9.45l-7.72 7.72c-.78.78-.78 2.05 0 2.83L4 21.41c.39.39.9.59 1.41.59.51 0 1.02-.2 1.41-.59l7.78-7.78 2.81-2.81c.8-.78.8-2.07 0-2.86zM5.41 20L4 18.59l7.72-7.72 1.47 1.35L5.41 20z\"/>\n",
              "  </svg>\n",
              "      </button>\n",
              "      \n",
              "  <style>\n",
              "    .colab-df-container {\n",
              "      display:flex;\n",
              "      flex-wrap:wrap;\n",
              "      gap: 12px;\n",
              "    }\n",
              "\n",
              "    .colab-df-convert {\n",
              "      background-color: #E8F0FE;\n",
              "      border: none;\n",
              "      border-radius: 50%;\n",
              "      cursor: pointer;\n",
              "      display: none;\n",
              "      fill: #1967D2;\n",
              "      height: 32px;\n",
              "      padding: 0 0 0 0;\n",
              "      width: 32px;\n",
              "    }\n",
              "\n",
              "    .colab-df-convert:hover {\n",
              "      background-color: #E2EBFA;\n",
              "      box-shadow: 0px 1px 2px rgba(60, 64, 67, 0.3), 0px 1px 3px 1px rgba(60, 64, 67, 0.15);\n",
              "      fill: #174EA6;\n",
              "    }\n",
              "\n",
              "    [theme=dark] .colab-df-convert {\n",
              "      background-color: #3B4455;\n",
              "      fill: #D2E3FC;\n",
              "    }\n",
              "\n",
              "    [theme=dark] .colab-df-convert:hover {\n",
              "      background-color: #434B5C;\n",
              "      box-shadow: 0px 1px 3px 1px rgba(0, 0, 0, 0.15);\n",
              "      filter: drop-shadow(0px 1px 2px rgba(0, 0, 0, 0.3));\n",
              "      fill: #FFFFFF;\n",
              "    }\n",
              "  </style>\n",
              "\n",
              "      <script>\n",
              "        const buttonEl =\n",
              "          document.querySelector('#df-7a16d434-524b-4113-a849-cb449cda993b button.colab-df-convert');\n",
              "        buttonEl.style.display =\n",
              "          google.colab.kernel.accessAllowed ? 'block' : 'none';\n",
              "\n",
              "        async function convertToInteractive(key) {\n",
              "          const element = document.querySelector('#df-7a16d434-524b-4113-a849-cb449cda993b');\n",
              "          const dataTable =\n",
              "            await google.colab.kernel.invokeFunction('convertToInteractive',\n",
              "                                                     [key], {});\n",
              "          if (!dataTable) return;\n",
              "\n",
              "          const docLinkHtml = 'Like what you see? Visit the ' +\n",
              "            '<a target=\"_blank\" href=https://colab.research.google.com/notebooks/data_table.ipynb>data table notebook</a>'\n",
              "            + ' to learn more about interactive tables.';\n",
              "          element.innerHTML = '';\n",
              "          dataTable['output_type'] = 'display_data';\n",
              "          await google.colab.output.renderOutput(dataTable, element);\n",
              "          const docLink = document.createElement('div');\n",
              "          docLink.innerHTML = docLinkHtml;\n",
              "          element.appendChild(docLink);\n",
              "        }\n",
              "      </script>\n",
              "    </div>\n",
              "  </div>\n",
              "  "
            ]
          },
          "metadata": {},
          "execution_count": 40
        }
      ]
    },
    {
      "cell_type": "code",
      "source": [
        "Los 5 paises más rentables son Islandia, Paises Bajos, Dinamarca, Suecia y Rusia."
      ],
      "metadata": {
        "id": "2voZ8LFbtpWE"
      },
      "execution_count": null,
      "outputs": []
    }
  ]
}