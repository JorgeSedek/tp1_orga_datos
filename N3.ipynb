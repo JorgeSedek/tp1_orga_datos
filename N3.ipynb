{
  "nbformat": 4,
  "nbformat_minor": 0,
  "metadata": {
    "colab": {
      "provenance": [],
      "authorship_tag": "ABX9TyONCcneKaP4kb9UBLbs4Nbs",
      "include_colab_link": true
    },
    "kernelspec": {
      "name": "python3",
      "display_name": "Python 3"
    },
    "language_info": {
      "name": "python"
    }
  },
  "cells": [
    {
      "cell_type": "markdown",
      "metadata": {
        "id": "view-in-github",
        "colab_type": "text"
      },
      "source": [
        "<a href=\"https://colab.research.google.com/github/JorgeSedek/tp1_orga_datos/blob/main/N3.ipynb\" target=\"_parent\"><img src=\"https://colab.research.google.com/assets/colab-badge.svg\" alt=\"Open In Colab\"/></a>"
      ]
    },
    {
      "cell_type": "code",
      "execution_count": null,
      "metadata": {
        "id": "Nr9KZNZSlPGu"
      },
      "outputs": [],
      "source": [
        "import pandas as pd"
      ]
    },
    {
      "cell_type": "code",
      "source": [
        "import numpy as np"
      ],
      "metadata": {
        "id": "hbE-b6fjlUo4"
      },
      "execution_count": null,
      "outputs": []
    },
    {
      "cell_type": "code",
      "source": [
        "from google.colab import drive\n",
        "drive.mount('/content/drive')"
      ],
      "metadata": {
        "colab": {
          "base_uri": "https://localhost:8080/"
        },
        "id": "o00KNzBrlYPF",
        "outputId": "b48d7ac5-e049-44ab-cb3d-478366602048"
      },
      "execution_count": null,
      "outputs": [
        {
          "output_type": "stream",
          "name": "stdout",
          "text": [
            "Drive already mounted at /content/drive; to attempt to forcibly remount, call drive.mount(\"/content/drive\", force_remount=True).\n"
          ]
        }
      ]
    },
    {
      "cell_type": "markdown",
      "source": [
        "N3) Removiendo stopwords, ¿Cúal es el top 10 lemmas más comunes?"
      ],
      "metadata": {
        "id": "-Ztn0N1HlY5O"
      }
    },
    {
      "cell_type": "code",
      "source": [
        "\n",
        "\n",
        "import sklearn \n",
        "import nltk \n",
        "\n",
        "from nltk import word_tokenize\n",
        "\n",
        "import nltk\n",
        "nltk.download('punkt')\n",
        "nltk.download('wordnet')\n",
        "nltk.download('stopwords')\n",
        "nltk.download('omw-1.4')\n",
        "\n"
      ],
      "metadata": {
        "colab": {
          "base_uri": "https://localhost:8080/"
        },
        "id": "RNyJ-5YSlbMD",
        "outputId": "de49f168-8235-4a55-9122-b976f80aecca"
      },
      "execution_count": null,
      "outputs": [
        {
          "output_type": "stream",
          "name": "stderr",
          "text": [
            "[nltk_data] Downloading package punkt to /root/nltk_data...\n",
            "[nltk_data]   Package punkt is already up-to-date!\n",
            "[nltk_data] Downloading package wordnet to /root/nltk_data...\n",
            "[nltk_data]   Package wordnet is already up-to-date!\n",
            "[nltk_data] Downloading package stopwords to /root/nltk_data...\n",
            "[nltk_data]   Package stopwords is already up-to-date!\n",
            "[nltk_data] Downloading package omw-1.4 to /root/nltk_data...\n",
            "[nltk_data]   Package omw-1.4 is already up-to-date!\n"
          ]
        },
        {
          "output_type": "execute_result",
          "data": {
            "text/plain": [
              "True"
            ]
          },
          "metadata": {},
          "execution_count": 15
        }
      ]
    },
    {
      "cell_type": "code",
      "source": [
        "df_peliculas = pd.read_csv('/content/drive/MyDrive/orgaDatos/Movie dataset/movies.csv')"
      ],
      "metadata": {
        "id": "bgw9Z4fumiyR"
      },
      "execution_count": null,
      "outputs": []
    },
    {
      "cell_type": "code",
      "source": [
        "def separar_paises(texto):\n",
        "  texto = texto.split(\",\")\n",
        "  paises = []\n",
        "\n",
        "  for elemento in texto:\n",
        "    if (\"name\" in elemento):\n",
        "      elemento = elemento.split(\":\")\n",
        "      elemento = elemento[1].strip(\"[]'{}'\").strip()\n",
        "     \n",
        "      paises.append(elemento[1:])\n",
        "  \n",
        "      \n",
        "  return paises"
      ],
      "metadata": {
        "id": "-SStRAL-mroF"
      },
      "execution_count": null,
      "outputs": []
    },
    {
      "cell_type": "code",
      "source": [
        "\n",
        "df_peliculas[\"spoken_languages\"] = df_peliculas[\"spoken_languages\"].fillna(\"\").astype(\"string\")\n",
        "\n",
        "df_peliculas[\"lenguajes\"] = df_peliculas[\"spoken_languages\"].map(separar_paises)\n",
        "df_lenguaje = df_peliculas.explode('lenguajes')\n",
        "df_lenguaje[\"lenguajes\"] = df_lenguaje[\"lenguajes\"].astype(\"string\")\n",
        "df_lenguaje[\"overview\"] = df_lenguaje[\"overview\"].astype(\"string\")\n",
        "df_lenguaje[\"overview\"] = df_lenguaje[\"overview\"].fillna(\"\")\n",
        "descripciones_ingles = df_lenguaje[\"overview\"].loc[df_lenguaje[\"lenguajes\"] == 'English'].fillna(\"\").astype(\"string\")\n",
        "\n"
      ],
      "metadata": {
        "id": "DfUptLAdljlw"
      },
      "execution_count": null,
      "outputs": []
    },
    {
      "cell_type": "code",
      "source": [
        "df_peliculas['descrip_filtr'] = df_peliculas['overview'].fillna('').astype('string')"
      ],
      "metadata": {
        "id": "CB0yuGQ-lole"
      },
      "execution_count": null,
      "outputs": []
    },
    {
      "cell_type": "code",
      "source": [
        "def tokenizar(texto):\n",
        "  return word_tokenize(texto, language='english')\n",
        "\n",
        "def filtrar(texto):\n",
        "  caracteres_eliminar = \"./,``,’?!#$%&/()][{}0123456789'\"\n",
        "  \n",
        "  for caracter in caracteres_eliminar:\n",
        "    texto = texto.replace(caracter,\"\")\n",
        "    \n",
        "  return texto\n",
        "\n",
        "\n",
        "\n",
        "df_peliculas['descrip_filtr'] = df_peliculas['overview'].fillna('').astype('string').map(filtrar)\n",
        "df_peliculas['descrip_filtr'] \n"
      ],
      "metadata": {
        "colab": {
          "base_uri": "https://localhost:8080/"
        },
        "id": "PPgWWXBDlpOG",
        "outputId": "ab8e2f06-c110-4994-ee57-24941af1b2d1"
      },
      "execution_count": null,
      "outputs": [
        {
          "output_type": "execute_result",
          "data": {
            "text/plain": [
              "0        Led by Woody Andys toys live happily in his ro...\n",
              "1        When siblings Judy and Peter discover an encha...\n",
              "2        A family wedding reignites the ancient feud be...\n",
              "3        Cheated on mistreated and stepped on the women...\n",
              "4        Just when George Banks has recovered from his ...\n",
              "                               ...                        \n",
              "45461           Rising and falling between a man and woman\n",
              "45462    An artist struggles to finish his work while a...\n",
              "45463    When one of her hits goes wrong a professional...\n",
              "45464    In a small town live two brothers one a minist...\n",
              "45465     years after decriminalisation of homosexualit...\n",
              "Name: descrip_filtr, Length: 45466, dtype: object"
            ]
          },
          "metadata": {},
          "execution_count": 20
        }
      ]
    },
    {
      "cell_type": "code",
      "source": [
        "df_peliculas['descrip_filtr'] = df_peliculas['descrip_filtr'].astype('string')\n",
        "df_peliculas['descrip_filtr'] = df_peliculas['descrip_filtr'].map(lambda x: x.lower().strip(',.!\"#$%/(=?)¡[]{}\"'))\n",
        "df_peliculas['descrip_filtr']"
      ],
      "metadata": {
        "colab": {
          "base_uri": "https://localhost:8080/"
        },
        "id": "G2WXz7YGluG9",
        "outputId": "f7379542-944e-4563-a7c9-101d848ba015"
      },
      "execution_count": null,
      "outputs": [
        {
          "output_type": "execute_result",
          "data": {
            "text/plain": [
              "0        led by woody andys toys live happily in his ro...\n",
              "1        when siblings judy and peter discover an encha...\n",
              "2        a family wedding reignites the ancient feud be...\n",
              "3        cheated on mistreated and stepped on the women...\n",
              "4        just when george banks has recovered from his ...\n",
              "                               ...                        \n",
              "45461           rising and falling between a man and woman\n",
              "45462    an artist struggles to finish his work while a...\n",
              "45463    when one of her hits goes wrong a professional...\n",
              "45464    in a small town live two brothers one a minist...\n",
              "45465     years after decriminalisation of homosexualit...\n",
              "Name: descrip_filtr, Length: 45466, dtype: object"
            ]
          },
          "metadata": {},
          "execution_count": 21
        }
      ]
    },
    {
      "cell_type": "code",
      "source": [
        "tokenizado = df_peliculas['descrip_filtr'].astype('string').map(filtrar).map(tokenizar)"
      ],
      "metadata": {
        "id": "kOnub2p8lxVn"
      },
      "execution_count": null,
      "outputs": []
    },
    {
      "cell_type": "code",
      "source": [
        "from nltk.corpus import stopwords\n",
        "\n",
        "stopwords = set(stopwords.words('english'))\n",
        "\n",
        "def sacar_stopwords(texto):\n",
        "  textoSinStopwords = \"\"\n",
        "  for palabra in texto:\n",
        "    if palabra not in stopwords:\n",
        "        textoSinStopwords = textoSinStopwords + \" \" + palabra\n",
        "  \n",
        "  return textoSinStopwords \n",
        "\n",
        "\n",
        "\n",
        "palabras_sin_SW = tokenizado.map(sacar_stopwords)\n",
        "palabras_sin_SW = palabras_sin_SW.astype('string')\n",
        "palabras_filtradas = palabras_sin_SW.map(filtrar)"
      ],
      "metadata": {
        "id": "YOwawvSml0qt"
      },
      "execution_count": null,
      "outputs": []
    },
    {
      "cell_type": "code",
      "source": [
        "from nltk.stem import WordNetLemmatizer"
      ],
      "metadata": {
        "id": "joWEZWgll3fJ"
      },
      "execution_count": null,
      "outputs": []
    },
    {
      "cell_type": "code",
      "source": [
        "lemma = WordNetLemmatizer()\n",
        "\n",
        "def lematizar(texto):\n",
        "  texto_lematizado= \"\"\n",
        "  for palabra in word_tokenize(texto):\n",
        "      texto_lematizado = texto_lematizado + \" \" + lemma.lemmatize(palabra)\n",
        "  return texto_lematizado\n",
        "\n",
        "lematizado = palabras_filtradas.map(lematizar)"
      ],
      "metadata": {
        "id": "q_jzxLapl5v-"
      },
      "execution_count": null,
      "outputs": []
    },
    {
      "cell_type": "code",
      "source": [
        "lematizado.size\n",
        "lematizado"
      ],
      "metadata": {
        "colab": {
          "base_uri": "https://localhost:8080/"
        },
        "id": "CB4qYfyll7yn",
        "outputId": "5d3d8feb-43f1-411b-a8fe-30409f05ce63"
      },
      "execution_count": null,
      "outputs": [
        {
          "output_type": "execute_result",
          "data": {
            "text/plain": [
              "0         led woody andys toy live happily room andys b...\n",
              "1         sibling judy peter discover enchanted board g...\n",
              "2         family wedding reignites ancient feud next-do...\n",
              "3         cheated mistreated stepped woman holding brea...\n",
              "4         george bank recovered daughter wedding receiv...\n",
              "                               ...                        \n",
              "45461                             rising falling man woman\n",
              "45462     artist struggle finish work storyline cult pl...\n",
              "45463     one hit go wrong professional assassin end su...\n",
              "45464     small town live two brother one minister one ...\n",
              "45465     year decriminalisation homosexuality uk direc...\n",
              "Name: descrip_filtr, Length: 45466, dtype: object"
            ]
          },
          "metadata": {},
          "execution_count": 26
        }
      ]
    },
    {
      "cell_type": "code",
      "source": [
        "lematizado = lematizado.astype('string')\n",
        "lematizado_token = lematizado.map(tokenizar)"
      ],
      "metadata": {
        "id": "WRe-zEgvl-vH"
      },
      "execution_count": null,
      "outputs": []
    },
    {
      "cell_type": "code",
      "source": [
        "texto_lematizado= \"\"\n",
        "for elemento in lematizado:\n",
        "      texto_lematizado = texto_lematizado + \" \" + elemento"
      ],
      "metadata": {
        "id": "_paXO5bzmEl3"
      },
      "execution_count": null,
      "outputs": []
    },
    {
      "cell_type": "code",
      "source": [
        "texto_tokenizado = tokenizar(texto_lematizado)"
      ],
      "metadata": {
        "id": "450U8sBYmG65"
      },
      "execution_count": null,
      "outputs": []
    },
    {
      "cell_type": "code",
      "source": [
        "import collections\n",
        "\n",
        "dict_freq = collections.Counter(texto_tokenizado)\n",
        "sorted(dict_freq , key=dict_freq.get, reverse=True)[:10]"
      ],
      "metadata": {
        "colab": {
          "base_uri": "https://localhost:8080/"
        },
        "id": "fI_mRdFymJUH",
        "outputId": "506ef13b-b5c5-4e76-a9c1-31343595bf98"
      },
      "execution_count": null,
      "outputs": [
        {
          "output_type": "execute_result",
          "data": {
            "text/plain": [
              "['life', 'one', 'film', 'find', 'young', 'new', 'love', 'man', 'story', 'two']"
            ]
          },
          "metadata": {},
          "execution_count": 31
        }
      ]
    },
    {
      "cell_type": "markdown",
      "source": [
        "Estos son los 10 lemmas más comunes "
      ],
      "metadata": {
        "id": "qpAkQ7MJmN7b"
      }
    }
  ]
}